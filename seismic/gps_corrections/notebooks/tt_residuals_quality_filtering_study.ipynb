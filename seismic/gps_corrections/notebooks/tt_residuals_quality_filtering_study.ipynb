{
 "cells": [
  {
   "cell_type": "code",
   "execution_count": null,
   "metadata": {},
   "outputs": [],
   "source": [
    "import os\n",
    "import sys\n",
    "import numpy as np\n",
    "import pandas as pd\n",
    "pd.set_option('display.max_rows', 200)\n",
    "pd.set_option('display.max_columns', None)\n",
    "pd.set_option('display.max_colwidth', -1)\n",
    "pd.set_option('display.width', 240)"
   ]
  },
  {
   "cell_type": "code",
   "execution_count": null,
   "metadata": {},
   "outputs": [],
   "source": [
    "import matplotlib\n",
    "import matplotlib.pyplot as plt\n",
    "matplotlib.rcParams['figure.figsize'] = (16.0, 9.0)"
   ]
  },
  {
   "cell_type": "code",
   "execution_count": null,
   "metadata": {},
   "outputs": [],
   "source": [
    "import seaborn as sns"
   ]
  },
  {
   "cell_type": "code",
   "execution_count": null,
   "metadata": {},
   "outputs": [],
   "source": [
    "# Progress bar helper to indicate that slow tasks have not stalled\n",
    "from tqdm.auto import tqdm"
   ]
  },
  {
   "cell_type": "code",
   "execution_count": null,
   "metadata": {},
   "outputs": [],
   "source": [
    "PICKS_PATH = r\"C:\\data_cache\\Picks\\20190320\\ensemble.p.txt\"\n",
    "dtype = {'#eventID': object,\n",
    "    'originTimestamp': np.float64,\n",
    "    'mag':                    np.float64,\n",
    "    'originLon':              np.float64,\n",
    "    'originLat':              np.float64,\n",
    "    'originDepthKm':          np.float64,\n",
    "    'net':                     object,\n",
    "    'sta':                     object,\n",
    "    'cha':                     object,\n",
    "    'pickTimestamp':          np.float64,\n",
    "    'phase':                   object,\n",
    "    'stationLon':             np.float64,\n",
    "    'stationLat':             np.float64,\n",
    "    'az':                     np.float64,\n",
    "    'baz':                    np.float64,\n",
    "    'distance':               np.float64,\n",
    "    'ttResidual':             np.float64,\n",
    "    'snr':                    np.float64,\n",
    "    'qualityMeasureCWT':      np.float64,\n",
    "    'domFreq':                np.float64,\n",
    "    'qualityMeasureSlope':    np.float64,\n",
    "    'bandIndex':              np.int64,\n",
    "    'nSigma':                 np.int64}"
   ]
  },
  {
   "cell_type": "code",
   "execution_count": null,
   "metadata": {},
   "outputs": [],
   "source": [
    "df_picks = pd.read_csv(PICKS_PATH, ' ', header=0, dtype=dtype)"
   ]
  },
  {
   "cell_type": "code",
   "execution_count": null,
   "metadata": {},
   "outputs": [],
   "source": [
    "np.max(df_picks[['qualityMeasureCWT', 'qualityMeasureSlope']])"
   ]
  },
  {
   "cell_type": "code",
   "execution_count": null,
   "metadata": {},
   "outputs": [],
   "source": [
    "np.min(np.abs(df_picks[['qualityMeasureCWT', 'qualityMeasureSlope']]))"
   ]
  },
  {
   "cell_type": "code",
   "execution_count": null,
   "metadata": {},
   "outputs": [],
   "source": [
    "# Generata dataset with the zero quality metrics removed\n",
    "mask_nz = ((df_picks['qualityMeasureCWT'] > 0) & (df_picks['qualityMeasureSlope'] > 0))\n",
    "df_nz = df_picks[mask_nz]\n",
    "len(df_nz)"
   ]
  },
  {
   "cell_type": "code",
   "execution_count": null,
   "metadata": {},
   "outputs": [],
   "source": [
    "def plotNetworkHistCWT(df, netcodes):\n",
    "    for netcode in netcodes:\n",
    "        mask = (df['net'] == netcode)\n",
    "        df_masked = df.loc[mask]\n",
    "        plt.hist(df_masked['qualityMeasureCWT'], bins=50, range=(0, 100), alpha=0.5)\n",
    "    plt.title(\"qualityMeasureCWT for {}\".format(netcodes))\n",
    "    plt.legend(netcodes)\n",
    "    plt.show()"
   ]
  },
  {
   "cell_type": "code",
   "execution_count": null,
   "metadata": {},
   "outputs": [],
   "source": [
    "def plotNetworkHistSlope(df, netcodes):\n",
    "    for netcode in netcodes:\n",
    "        mask = (df['net'] == netcode)\n",
    "        df_masked = df.loc[mask]\n",
    "        plt.hist(df_masked['qualityMeasureSlope'], bins=50, range=(0, 25), alpha=0.5)\n",
    "    plt.title(\"qualityMeasureSlope for {}\".format(netcodes))\n",
    "    plt.legend(netcodes)\n",
    "    plt.show()"
   ]
  },
  {
   "cell_type": "code",
   "execution_count": null,
   "metadata": {},
   "outputs": [],
   "source": [
    "def plotNetworkHistSNR(df, netcodes):\n",
    "    for netcode in netcodes:\n",
    "        mask = (df['net'] == netcode)\n",
    "        df_masked = df.loc[mask]\n",
    "        plt.hist(df_masked['snr'], bins=50, range=(0, 100), alpha=0.5)\n",
    "    plt.title(\"SNR for {}\".format(netcodes))\n",
    "    plt.legend(netcodes)\n",
    "    plt.show()"
   ]
  },
  {
   "cell_type": "code",
   "execution_count": null,
   "metadata": {},
   "outputs": [],
   "source": [
    "def plotNetworkHistSigma(df, netcodes):\n",
    "    for netcode in netcodes:\n",
    "        mask = (df['net'] == netcode)\n",
    "        df_masked = df.loc[mask]\n",
    "        plt.hist(df_masked['nSigma'], bins=50, range=(0, 10), alpha=0.5)\n",
    "    plt.title(\"nSigma for {}\".format(netcodes))\n",
    "    plt.legend(netcodes)\n",
    "    plt.show()"
   ]
  },
  {
   "cell_type": "code",
   "execution_count": null,
   "metadata": {},
   "outputs": [],
   "source": [
    "plotNetworkHistCWT(df_nz, ['7D', '7F', '7G'])\n",
    "plotNetworkHistSlope(df_nz, ['7D', '7F', '7G'])\n",
    "plotNetworkHistSNR(df_nz, ['7D', '7F', '7G'])\n",
    "plotNetworkHistSigma(df_nz, ['7D', '7F', '7G'])"
   ]
  },
  {
   "cell_type": "code",
   "execution_count": null,
   "metadata": {},
   "outputs": [],
   "source": [
    "plotNetworkHistCWT(df_nz, ['OA', '7X'])\n",
    "plotNetworkHistSlope(df_nz, ['OA', '7X'])\n",
    "plotNetworkHistSNR(df_nz, ['OA', '7X'])\n",
    "plotNetworkHistSigma(df_nz, ['OA', '7X'])"
   ]
  },
  {
   "cell_type": "code",
   "execution_count": null,
   "metadata": {},
   "outputs": [],
   "source": []
  }
 ],
 "metadata": {
  "kernelspec": {
   "display_name": "Python 3",
   "language": "python",
   "name": "python3"
  },
  "language_info": {
   "codemirror_mode": {
    "name": "ipython",
    "version": 3
   },
   "file_extension": ".py",
   "mimetype": "text/x-python",
   "name": "python",
   "nbconvert_exporter": "python",
   "pygments_lexer": "ipython3",
   "version": "3.6.6"
  }
 },
 "nbformat": 4,
 "nbformat_minor": 2
}
